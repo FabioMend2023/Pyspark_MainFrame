{
 "cells": [
  {
   "cell_type": "code",
   "execution_count": 2,
   "id": "0e2d791c",
   "metadata": {},
   "outputs": [
    {
     "ename": "SyntaxError",
     "evalue": "unexpected character after line continuation character (344789280.py, line 7)",
     "output_type": "error",
     "traceback": [
      "\u001b[1;36m  Cell \u001b[1;32mIn[2], line 7\u001b[1;36m\u001b[0m\n\u001b[1;33m    .config(\"spark.driver.extraClassPath\", \"/path/to/ojdbc6.jar\") \\\u001b[0m\n\u001b[1;37m                                                                     \n^\u001b[0m\n\u001b[1;31mSyntaxError\u001b[0m\u001b[1;31m:\u001b[0m unexpected character after line continuation character\n"
     ]
    }
   ],
   "source": [
    "import pyspark\n",
    "from pyspark.sql import SparkSession\n",
    "\n",
    " # Configuração do Spark\n",
    "spark = SparkSession.builder \\\n",
    "    .appName(\"OracleToCSV\") \\\n",
    "    .config(\"spark.driver.extraClassPath\", \"/path/to/ojdbc6.jar\") \\  \n",
    "    -- # Substitua pelo caminho correto para o driver JDBC Oracle\n",
    "    .getOrCreate()\n",
    "\n",
    " # Configuração de conexão com o banco de dados Oracle\n",
    "url = \"jdbc:oracle:thin:@//host:port/service\"\n",
    "properties = {\n",
    "    \"user\": \"seu_usuario\",\n",
    "    \"password\": \"sua_senha\",\n",
    "    \"driver\": \"oracle.jdbc.driver.OracleDriver\"\n",
    "}\n",
    "\n",
    "# Tabela Oracle a ser lida\n",
    "table_name = \"sua_tabela\"\n",
    "\n",
    " # Lê os dados da tabela Oracle\n",
    "df = spark.read.jdbc(url=url, table=table_name, properties=properties)\n",
    "\n",
    " # Define o caminho do arquivo CSV de saída\n",
    "output_path = \"/caminho/para/seu/arquivo.csv\"\n",
    "\n",
    " # Grava os dados no arquivo CSV\n",
    "df.write.csv(output_path, header=True, mode=\"overwrite\")\n",
    "\n",
    " # Encerra a sessão do Spark\n",
    "spark.stop()"
   ]
  },
  {
   "cell_type": "code",
   "execution_count": null,
   "id": "3e551de1",
   "metadata": {},
   "outputs": [],
   "source": []
  }
 ],
 "metadata": {
  "kernelspec": {
   "display_name": "pyspark-env",
   "language": "python",
   "name": "pyspark-env"
  },
  "language_info": {
   "codemirror_mode": {
    "name": "ipython",
    "version": 3
   },
   "file_extension": ".py",
   "mimetype": "text/x-python",
   "name": "python",
   "nbconvert_exporter": "python",
   "pygments_lexer": "ipython3",
   "version": "3.11.4"
  }
 },
 "nbformat": 4,
 "nbformat_minor": 5
}
