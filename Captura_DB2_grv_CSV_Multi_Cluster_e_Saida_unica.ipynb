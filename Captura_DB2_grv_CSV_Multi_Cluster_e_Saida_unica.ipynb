{
 "cells": [
  {
   "cell_type": "code",
   "execution_count": null,
   "id": "7a0a16de",
   "metadata": {},
   "outputs": [],
   "source": [
    "from pyspark.sql import SparkSession\n",
    "\n",
    "# Configuração do Spark\n",
    "spark = SparkSession.builder \\\n",
    "    .appName(\"Conectar ao DB2 e escrever em CSV\") \\\n",
    "    .config(\"spark.driver.extraClassPath\", \"/path/to/db2-jdbc-driver.jar\") \\  # Substitua pelo caminho do driver DB2 JDBC\n",
    "    .getOrCreate()\n",
    "\n",
    "# Configuração das credenciais do banco de dados DB2\n",
    "db2_url = \"jdbc:db2://<hostname>:<port>/<database>\"\n",
    "db2_properties = {\n",
    "    \"user\": \"<seu-usuario>\",\n",
    "    \"password\": \"<sua-senha>\",\n",
    "    \"driver\": \"com.ibm.db2.jcc.DB2Driver\"\n",
    "}\n",
    "\n",
    "# Tabela no DB2 que você deseja ler\n",
    "table_name = \"sua_tabela\"\n",
    "\n",
    "# Lê os dados do DB2\n",
    "df = spark.read \\\n",
    "    .jdbc(url=db2_url, table=table_name, properties=db2_properties)\n",
    "\n",
    "# Redistribui os dados em vários clusters\n",
    "# O número de partições (clusters) depende do tamanho dos seus dados e dos recursos disponíveis\n",
    "num_partitions = 4  # Você pode ajustar isso conforme necessário\n",
    "df = df.repartition(num_partitions)\n",
    "\n",
    "# Escreve os dados em um arquivo CSV\n",
    "output_csv_path = \"caminho/para/seu/arquivo.csv\"\n",
    "\n",
    "# Coalesce para um único cluster antes de escrever no arquivo CSV\n",
    "df.coalesce(1).write \\\n",
    "    .csv(output_csv_path, header=True, mode=\"overwrite\")\n",
    "\n",
    "# Encerra a sessão do Spark\n",
    "spark.stop()\n"
   ]
  }
 ],
 "metadata": {
  "kernelspec": {
   "display_name": "pyspark-env",
   "language": "python",
   "name": "pyspark-env"
  },
  "language_info": {
   "codemirror_mode": {
    "name": "ipython",
    "version": 3
   },
   "file_extension": ".py",
   "mimetype": "text/x-python",
   "name": "python",
   "nbconvert_exporter": "python",
   "pygments_lexer": "ipython3",
   "version": "3.11.4"
  }
 },
 "nbformat": 4,
 "nbformat_minor": 5
}
